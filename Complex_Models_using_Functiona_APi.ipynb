{
  "nbformat": 4,
  "nbformat_minor": 0,
  "metadata": {
    "colab": {
      "name": "Complex Models using Functiona APi.ipynb",
      "provenance": []
    },
    "kernelspec": {
      "name": "python3",
      "display_name": "Python 3"
    }
  },
  "cells": [
    {
      "cell_type": "code",
      "metadata": {
        "id": "4nIZQQhswLac",
        "colab_type": "code",
        "colab": {
          "base_uri": "https://localhost:8080/",
          "height": 34
        },
        "outputId": "c52dc862-8b9d-450e-ad99-ec80dab3cf37"
      },
      "source": [
        "import tensorflow as tf\n",
        "print(tf.__version__)"
      ],
      "execution_count": 1,
      "outputs": [
        {
          "output_type": "stream",
          "text": [
            "2.2.0\n"
          ],
          "name": "stdout"
        }
      ]
    },
    {
      "cell_type": "markdown",
      "metadata": {
        "id": "F5pBu42Sw5Wb",
        "colab_type": "text"
      },
      "source": [
        "![](https://drive.google.com/uc?export=view&id=168tbMZRLV2h-y_rXZWA7XPN_bdy3VOW0)"
      ]
    },
    {
      "cell_type": "code",
      "metadata": {
        "id": "4SXegvgkwiAn",
        "colab_type": "code",
        "colab": {}
      },
      "source": [
        "from tensorflow import keras"
      ],
      "execution_count": 2,
      "outputs": []
    },
    {
      "cell_type": "code",
      "metadata": {
        "id": "HgWAmBJBo1ag",
        "colab_type": "code",
        "colab": {}
      },
      "source": [
        "input_shape = [30]"
      ],
      "execution_count": 19,
      "outputs": []
    },
    {
      "cell_type": "code",
      "metadata": {
        "id": "d8_8FtmCqdxf",
        "colab_type": "code",
        "colab": {
          "base_uri": "https://localhost:8080/",
          "height": 34
        },
        "outputId": "98659d72-e58b-4afb-8bac-2ecdcf51c460"
      },
      "source": [
        "hidden2"
      ],
      "execution_count": 18,
      "outputs": [
        {
          "output_type": "execute_result",
          "data": {
            "text/plain": [
              "<tf.Tensor 'dense_28/Identity:0' shape=(None, 30) dtype=float32>"
            ]
          },
          "metadata": {
            "tags": []
          },
          "execution_count": 18
        }
      ]
    },
    {
      "cell_type": "code",
      "metadata": {
        "id": "zpw44L9byvaN",
        "colab_type": "code",
        "colab": {}
      },
      "source": [
        "input_ = keras.layers.Input(shape= input_shape)\n",
        "hidden1 = keras.layers.Dense(30, activation='relu', name = 'hidden1')(input_)\n",
        "hidden2 = keras.layers.Dense(30, activation='relu', name='hidden2')(hidden1)\n",
        "concat = keras.layers.Concatenate()([input_, hidden2])\n",
        "output = keras.layers.Dense(1)(concat)\n",
        "\n",
        "model = keras.Model(inputs = [input_], outputs= [output])"
      ],
      "execution_count": 23,
      "outputs": []
    },
    {
      "cell_type": "code",
      "metadata": {
        "id": "s00Q1KhsqyCp",
        "colab_type": "code",
        "colab": {
          "base_uri": "https://localhost:8080/",
          "height": 347
        },
        "outputId": "f5e36649-6859-4e17-c15f-2280a418c90e"
      },
      "source": [
        "model.summary()"
      ],
      "execution_count": 24,
      "outputs": [
        {
          "output_type": "stream",
          "text": [
            "Model: \"model_2\"\n",
            "__________________________________________________________________________________________________\n",
            "Layer (type)                    Output Shape         Param #     Connected to                     \n",
            "==================================================================================================\n",
            "input_15 (InputLayer)           [(None, 30)]         0                                            \n",
            "__________________________________________________________________________________________________\n",
            "hidden1 (Dense)                 (None, 30)           930         input_15[0][0]                   \n",
            "__________________________________________________________________________________________________\n",
            "hidden2 (Dense)                 (None, 30)           930         hidden1[0][0]                    \n",
            "__________________________________________________________________________________________________\n",
            "concatenate_8 (Concatenate)     (None, 60)           0           input_15[0][0]                   \n",
            "                                                                 hidden2[0][0]                    \n",
            "__________________________________________________________________________________________________\n",
            "dense_36 (Dense)                (None, 1)            61          concatenate_8[0][0]              \n",
            "==================================================================================================\n",
            "Total params: 1,921\n",
            "Trainable params: 1,921\n",
            "Non-trainable params: 0\n",
            "__________________________________________________________________________________________________\n"
          ],
          "name": "stdout"
        }
      ]
    },
    {
      "cell_type": "markdown",
      "metadata": {
        "id": "fh5EFWyd0LJt",
        "colab_type": "text"
      },
      "source": [
        "![alt text](https://drive.google.com/uc?export=view&id=1f-q-WZ-BR5D-ey-shMYbUjn_f4ijb-xp)"
      ]
    },
    {
      "cell_type": "code",
      "metadata": {
        "id": "oySVFu3brIVN",
        "colab_type": "code",
        "colab": {}
      },
      "source": [
        "input_shape1 = [50]"
      ],
      "execution_count": 29,
      "outputs": []
    },
    {
      "cell_type": "code",
      "metadata": {
        "id": "cTjuiIcEzwQk",
        "colab_type": "code",
        "colab": {}
      },
      "source": [
        "input_A = keras.layers.Input(shape=input_shape, name='deep_input')\n",
        "input_B = keras.layers.Input(shape=input_shape1, name='wide_input')\n",
        "hidden1 = keras.layers.Dense(32, activation='relu')(input_A)\n",
        "hidden2 = keras.layers.Dense(64, activation='relu')(hidden1)\n",
        "concat = keras.layers.Concatenate()([input_A, hidden2])\n",
        "output = keras.layers.Dense(1)(concat)\n",
        "\n",
        "model = keras.Model(inputs=[input_A, input_B], outputs=output)\n"
      ],
      "execution_count": 30,
      "outputs": []
    },
    {
      "cell_type": "code",
      "metadata": {
        "id": "FDVOBAH9rFC5",
        "colab_type": "code",
        "colab": {
          "base_uri": "https://localhost:8080/",
          "height": 382
        },
        "outputId": "d3c8c70d-955d-4ae5-91d6-5f538b5d565c"
      },
      "source": [
        "model.summary()"
      ],
      "execution_count": 31,
      "outputs": [
        {
          "output_type": "stream",
          "text": [
            "Model: \"model_4\"\n",
            "__________________________________________________________________________________________________\n",
            "Layer (type)                    Output Shape         Param #     Connected to                     \n",
            "==================================================================================================\n",
            "deep_input (InputLayer)         [(None, 30)]         0                                            \n",
            "__________________________________________________________________________________________________\n",
            "dense_40 (Dense)                (None, 32)           992         deep_input[0][0]                 \n",
            "__________________________________________________________________________________________________\n",
            "dense_41 (Dense)                (None, 64)           2112        dense_40[0][0]                   \n",
            "__________________________________________________________________________________________________\n",
            "concatenate_10 (Concatenate)    (None, 94)           0           deep_input[0][0]                 \n",
            "                                                                 dense_41[0][0]                   \n",
            "__________________________________________________________________________________________________\n",
            "wide_input (InputLayer)         [(None, 50)]         0                                            \n",
            "__________________________________________________________________________________________________\n",
            "dense_42 (Dense)                (None, 1)            95          concatenate_10[0][0]             \n",
            "==================================================================================================\n",
            "Total params: 3,199\n",
            "Trainable params: 3,199\n",
            "Non-trainable params: 0\n",
            "__________________________________________________________________________________________________\n"
          ],
          "name": "stdout"
        }
      ]
    },
    {
      "cell_type": "markdown",
      "metadata": {
        "id": "P2R5jZ4H12cr",
        "colab_type": "text"
      },
      "source": [
        "**you can pass a dictionary mapping the input names to the input values, like {\"wide_input\":\n",
        "X_train_A, \"deep_input\": X_train_B} . This is especially useful when there are many inputs, to avoid getting the order wrong.**"
      ]
    },
    {
      "cell_type": "markdown",
      "metadata": {
        "id": "rNrwNXxV1iXw",
        "colab_type": "text"
      },
      "source": [
        "Note that we specified\n",
        "inputs=[input_A, input_B] when creating the model. Now we can compile the\n",
        "model as usual, but when we call the fit() method, instead of passing a single input\n",
        "matrix X_train , we must pass a pair of matrices (X_train_A, X_train_B) : one per\n",
        "input. 19 The same is true for X_valid , and also for X_test and X_new when you call\n",
        "evaluate() or predict() :"
      ]
    },
    {
      "cell_type": "code",
      "metadata": {
        "id": "8EK-ceKk1jce",
        "colab_type": "code",
        "colab": {}
      },
      "source": [
        "history = model.fit((X_train_A, X_train_B), y_train, epochs=20,\n",
        "validation_data=((X_valid_A, X_valid_B), y_valid))\n",
        "mse_test = model.evaluate((X_test_A, X_test_B), y_test)\n",
        "y_pred = model.predict((X_new_A, X_new_B))"
      ],
      "execution_count": null,
      "outputs": []
    }
  ]
}