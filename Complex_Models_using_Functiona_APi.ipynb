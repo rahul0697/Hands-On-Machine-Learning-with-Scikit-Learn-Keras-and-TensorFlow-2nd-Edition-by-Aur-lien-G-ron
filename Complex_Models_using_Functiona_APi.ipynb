{
  "nbformat": 4,
  "nbformat_minor": 0,
  "metadata": {
    "colab": {
      "name": "Complex Models using Functiona APi.ipynb",
      "provenance": []
    },
    "kernelspec": {
      "name": "python3",
      "display_name": "Python 3"
    },
    "accelerator": "GPU"
  },
  "cells": [
    {
      "cell_type": "code",
      "metadata": {
        "id": "4nIZQQhswLac",
        "colab_type": "code",
        "colab": {
          "base_uri": "https://localhost:8080/",
          "height": 34
        },
        "outputId": "8f6dd270-15f0-43d9-ac2f-511cab430bc6"
      },
      "source": [
        "import tensorflow as tf\n",
        "print(tf.__version__)"
      ],
      "execution_count": 1,
      "outputs": [
        {
          "output_type": "stream",
          "text": [
            "2.2.0\n"
          ],
          "name": "stdout"
        }
      ]
    },
    {
      "cell_type": "code",
      "metadata": {
        "id": "9Qv1EyPOCxr4",
        "colab_type": "code",
        "colab": {}
      },
      "source": [
        "from sklearn.datasets import fetch_california_housing\n",
        "from sklearn.model_selection import train_test_split\n",
        "from sklearn.preprocessing import StandardScaler"
      ],
      "execution_count": 2,
      "outputs": []
    },
    {
      "cell_type": "code",
      "metadata": {
        "id": "qwUj_dIiC2PW",
        "colab_type": "code",
        "colab": {
          "base_uri": "https://localhost:8080/",
          "height": 34
        },
        "outputId": "569ad46f-e037-40f9-b5a3-0e95c6d9115a"
      },
      "source": [
        "housing = fetch_california_housing()\n",
        "X_train_full, X_test, y_train_full, y_test = train_test_split(\n",
        "housing.data, housing.target)\n",
        "X_train, X_valid, y_train, y_valid = train_test_split(\n",
        "X_train_full, y_train_full)\n",
        "scaler = StandardScaler()\n",
        "X_train = scaler.fit_transform(X_train)\n",
        "X_valid = scaler.transform(X_valid)\n",
        "X_test = scaler.transform(X_test)"
      ],
      "execution_count": 3,
      "outputs": [
        {
          "output_type": "stream",
          "text": [
            "Downloading Cal. housing from https://ndownloader.figshare.com/files/5976036 to /root/scikit_learn_data\n"
          ],
          "name": "stderr"
        }
      ]
    },
    {
      "cell_type": "code",
      "metadata": {
        "id": "omCUo9IREcES",
        "colab_type": "code",
        "colab": {
          "base_uri": "https://localhost:8080/",
          "height": 34
        },
        "outputId": "e5744860-fd90-4118-bb59-68d061c5bcc2"
      },
      "source": [
        "print(X_train.shape)"
      ],
      "execution_count": 5,
      "outputs": [
        {
          "output_type": "stream",
          "text": [
            "(11610, 8)\n"
          ],
          "name": "stdout"
        }
      ]
    },
    {
      "cell_type": "code",
      "metadata": {
        "id": "Wmory_yLC9Ag",
        "colab_type": "code",
        "colab": {}
      },
      "source": [
        "X_train_A, X_train_B = X_train[:, :5], X_train[:, 2:]\n",
        "X_valid_A, X_valid_B = X_valid[:, :5], X_valid[:, 2:]\n",
        "X_test_A, X_test_B = X_test[:, :5], X_test[:, 2:]\n",
        "X_new_A, X_new_B = X_test_A[:3], X_test_B[:3]"
      ],
      "execution_count": 6,
      "outputs": []
    },
    {
      "cell_type": "code",
      "metadata": {
        "id": "i9Wz6sdgEkkB",
        "colab_type": "code",
        "colab": {
          "base_uri": "https://localhost:8080/",
          "height": 52
        },
        "outputId": "ae812f2c-15de-44da-ee3c-5861514438ed"
      },
      "source": [
        "print(X_train_A.shape)\n",
        "print(X_train_B.shape)"
      ],
      "execution_count": 7,
      "outputs": [
        {
          "output_type": "stream",
          "text": [
            "(11610, 5)\n",
            "(11610, 6)\n"
          ],
          "name": "stdout"
        }
      ]
    },
    {
      "cell_type": "markdown",
      "metadata": {
        "id": "F5pBu42Sw5Wb",
        "colab_type": "text"
      },
      "source": [
        "![](https://drive.google.com/uc?export=view&id=168tbMZRLV2h-y_rXZWA7XPN_bdy3VOW0)"
      ]
    },
    {
      "cell_type": "code",
      "metadata": {
        "id": "4SXegvgkwiAn",
        "colab_type": "code",
        "colab": {}
      },
      "source": [
        "from tensorflow import keras"
      ],
      "execution_count": 9,
      "outputs": []
    },
    {
      "cell_type": "code",
      "metadata": {
        "id": "zpw44L9byvaN",
        "colab_type": "code",
        "colab": {}
      },
      "source": [
        "input_ = keras.layers.Input(shape = X_train.shape[1:])\n",
        "hidden1 = keras.layers.Dense(30, activation='relu', name = 'hidden1')(input_)\n",
        "hidden2 = keras.layers.Dense(30, activation='relu', name='hidden2')(hidden1)\n",
        "concat = keras.layers.Concatenate()([input_, hidden2])\n",
        "output = keras.layers.Dense(1)(concat)\n",
        "\n",
        "model = keras.Model(inputs = [input_], outputs= [output])"
      ],
      "execution_count": 10,
      "outputs": []
    },
    {
      "cell_type": "code",
      "metadata": {
        "id": "s00Q1KhsqyCp",
        "colab_type": "code",
        "colab": {
          "base_uri": "https://localhost:8080/",
          "height": 347
        },
        "outputId": "18b24986-1a5c-4055-e4a5-a3618e01de6e"
      },
      "source": [
        "model.summary()"
      ],
      "execution_count": 11,
      "outputs": [
        {
          "output_type": "stream",
          "text": [
            "Model: \"model\"\n",
            "__________________________________________________________________________________________________\n",
            "Layer (type)                    Output Shape         Param #     Connected to                     \n",
            "==================================================================================================\n",
            "input_1 (InputLayer)            [(None, 8)]          0                                            \n",
            "__________________________________________________________________________________________________\n",
            "hidden1 (Dense)                 (None, 30)           270         input_1[0][0]                    \n",
            "__________________________________________________________________________________________________\n",
            "hidden2 (Dense)                 (None, 30)           930         hidden1[0][0]                    \n",
            "__________________________________________________________________________________________________\n",
            "concatenate (Concatenate)       (None, 38)           0           input_1[0][0]                    \n",
            "                                                                 hidden2[0][0]                    \n",
            "__________________________________________________________________________________________________\n",
            "dense (Dense)                   (None, 1)            39          concatenate[0][0]                \n",
            "==================================================================================================\n",
            "Total params: 1,239\n",
            "Trainable params: 1,239\n",
            "Non-trainable params: 0\n",
            "__________________________________________________________________________________________________\n"
          ],
          "name": "stdout"
        }
      ]
    },
    {
      "cell_type": "code",
      "metadata": {
        "id": "tv0piyWpD0F0",
        "colab_type": "code",
        "colab": {
          "base_uri": "https://localhost:8080/",
          "height": 208
        },
        "outputId": "bf66b982-bb65-4fbb-d0ff-fda0688d8445"
      },
      "source": [
        "model.compile(optimizer = 'sgd', loss= 'mse')\n",
        "model.fit(X_train,y_train, validation_data = (X_valid,y_valid), epochs=5)"
      ],
      "execution_count": 14,
      "outputs": [
        {
          "output_type": "stream",
          "text": [
            "Epoch 1/5\n",
            "363/363 [==============================] - 1s 4ms/step - loss: 0.8989 - val_loss: 2.0530\n",
            "Epoch 2/5\n",
            "363/363 [==============================] - 1s 3ms/step - loss: 1157.2257 - val_loss: 24.0543\n",
            "Epoch 3/5\n",
            "363/363 [==============================] - 1s 3ms/step - loss: 3.2389 - val_loss: 2.0948\n",
            "Epoch 4/5\n",
            "363/363 [==============================] - 1s 3ms/step - loss: 12.7241 - val_loss: 2.6649\n",
            "Epoch 5/5\n",
            "363/363 [==============================] - 1s 3ms/step - loss: 2.4089 - val_loss: 3.6917\n"
          ],
          "name": "stdout"
        },
        {
          "output_type": "execute_result",
          "data": {
            "text/plain": [
              "<tensorflow.python.keras.callbacks.History at 0x7f0deb8f3dd8>"
            ]
          },
          "metadata": {
            "tags": []
          },
          "execution_count": 14
        }
      ]
    },
    {
      "cell_type": "markdown",
      "metadata": {
        "id": "fh5EFWyd0LJt",
        "colab_type": "text"
      },
      "source": [
        "![alt text](https://drive.google.com/uc?export=view&id=1f-q-WZ-BR5D-ey-shMYbUjn_f4ijb-xp)\n",
        "\n",
        "> Indented block\n",
        "\n"
      ]
    },
    {
      "cell_type": "code",
      "metadata": {
        "id": "oySVFu3brIVN",
        "colab_type": "code",
        "colab": {}
      },
      "source": [
        "input_shape = [5]\n",
        "input_shape1 = [6]"
      ],
      "execution_count": 15,
      "outputs": []
    },
    {
      "cell_type": "code",
      "metadata": {
        "id": "cTjuiIcEzwQk",
        "colab_type": "code",
        "colab": {}
      },
      "source": [
        "input_A = keras.layers.Input(shape=input_shape, name='deep_input')\n",
        "input_B = keras.layers.Input(shape=input_shape1, name='wide_input')\n",
        "hidden1 = keras.layers.Dense(32, activation='relu')(input_A)\n",
        "hidden2 = keras.layers.Dense(64, activation='relu')(hidden1)\n",
        "concat = keras.layers.Concatenate()([input_A, hidden2])\n",
        "output = keras.layers.Dense(1)(concat)\n",
        "\n",
        "model = keras.Model(inputs=[input_A, input_B], outputs=output)\n"
      ],
      "execution_count": 16,
      "outputs": []
    },
    {
      "cell_type": "code",
      "metadata": {
        "id": "FDVOBAH9rFC5",
        "colab_type": "code",
        "colab": {
          "base_uri": "https://localhost:8080/",
          "height": 382
        },
        "outputId": "60a5f4e2-fcdd-4e70-de04-aa22f275232f"
      },
      "source": [
        "model.summary()"
      ],
      "execution_count": 17,
      "outputs": [
        {
          "output_type": "stream",
          "text": [
            "Model: \"model_1\"\n",
            "__________________________________________________________________________________________________\n",
            "Layer (type)                    Output Shape         Param #     Connected to                     \n",
            "==================================================================================================\n",
            "deep_input (InputLayer)         [(None, 5)]          0                                            \n",
            "__________________________________________________________________________________________________\n",
            "dense_1 (Dense)                 (None, 32)           192         deep_input[0][0]                 \n",
            "__________________________________________________________________________________________________\n",
            "dense_2 (Dense)                 (None, 64)           2112        dense_1[0][0]                    \n",
            "__________________________________________________________________________________________________\n",
            "concatenate_1 (Concatenate)     (None, 69)           0           deep_input[0][0]                 \n",
            "                                                                 dense_2[0][0]                    \n",
            "__________________________________________________________________________________________________\n",
            "wide_input (InputLayer)         [(None, 6)]          0                                            \n",
            "__________________________________________________________________________________________________\n",
            "dense_3 (Dense)                 (None, 1)            70          concatenate_1[0][0]              \n",
            "==================================================================================================\n",
            "Total params: 2,374\n",
            "Trainable params: 2,374\n",
            "Non-trainable params: 0\n",
            "__________________________________________________________________________________________________\n"
          ],
          "name": "stdout"
        }
      ]
    },
    {
      "cell_type": "markdown",
      "metadata": {
        "id": "P2R5jZ4H12cr",
        "colab_type": "text"
      },
      "source": [
        "**you can pass a dictionary mapping the input names to the input values, like {\"wide_input\":\n",
        "X_train_A, \"deep_input\": X_train_B} . This is especially useful when there are many inputs, to avoid getting the order wrong.**"
      ]
    },
    {
      "cell_type": "markdown",
      "metadata": {
        "id": "rNrwNXxV1iXw",
        "colab_type": "text"
      },
      "source": [
        "Note that we specified\n",
        "inputs=[input_A, input_B] when creating the model. Now we can compile the\n",
        "model as usual, but when we call the fit() method, instead of passing a single input\n",
        "matrix X_train , we must pass a pair of matrices (X_train_A, X_train_B) : one per\n",
        "input. 19 The same is true for X_valid , and also for X_test and X_new when you call\n",
        "evaluate() or predict() :"
      ]
    },
    {
      "cell_type": "code",
      "metadata": {
        "id": "8EK-ceKk1jce",
        "colab_type": "code",
        "colab": {
          "base_uri": "https://localhost:8080/",
          "height": 382
        },
        "outputId": "71947946-22ca-485b-b378-05d4744da1b2"
      },
      "source": [
        "model.compile(optimizer='sgd', loss= 'mse')\n",
        "history = model.fit((X_train_A, X_train_B), y_train, epochs=10,\n",
        "validation_data=((X_valid_A, X_valid_B), y_valid))\n",
        "mse_test = model.evaluate((X_test_A, X_test_B), y_test)\n",
        "y_pred = model.predict((X_new_A, X_new_B))"
      ],
      "execution_count": 18,
      "outputs": [
        {
          "output_type": "stream",
          "text": [
            "Epoch 1/10\n",
            "363/363 [==============================] - 1s 3ms/step - loss: 0.8229 - val_loss: 0.5973\n",
            "Epoch 2/10\n",
            "363/363 [==============================] - 1s 3ms/step - loss: 0.5867 - val_loss: 0.6165\n",
            "Epoch 3/10\n",
            "363/363 [==============================] - 1s 3ms/step - loss: 0.5588 - val_loss: 0.5521\n",
            "Epoch 4/10\n",
            "363/363 [==============================] - 1s 3ms/step - loss: 0.5846 - val_loss: 0.5452\n",
            "Epoch 5/10\n",
            "363/363 [==============================] - 1s 3ms/step - loss: 0.5399 - val_loss: 0.5372\n",
            "Epoch 6/10\n",
            "363/363 [==============================] - 1s 3ms/step - loss: 0.5307 - val_loss: 0.5273\n",
            "Epoch 7/10\n",
            "363/363 [==============================] - 1s 3ms/step - loss: 0.5464 - val_loss: 0.5297\n",
            "Epoch 8/10\n",
            "363/363 [==============================] - 1s 3ms/step - loss: 0.5481 - val_loss: 0.5251\n",
            "Epoch 9/10\n",
            "363/363 [==============================] - 1s 3ms/step - loss: 0.5174 - val_loss: 0.5164\n",
            "Epoch 10/10\n",
            "363/363 [==============================] - 1s 3ms/step - loss: 0.5151 - val_loss: 0.5170\n",
            "162/162 [==============================] - 0s 2ms/step - loss: 0.5109\n"
          ],
          "name": "stdout"
        }
      ]
    },
    {
      "cell_type": "markdown",
      "metadata": {
        "id": "1AvslZCr2LOu",
        "colab_type": "text"
      },
      "source": [
        "![alt text](https://drive.google.com/uc?export=view&id=11htrbzoRQlkF4W9sYCPxhgnpuJ3iopuS)"
      ]
    },
    {
      "cell_type": "markdown",
      "metadata": {
        "id": "8EnSlEZx3ANv",
        "colab_type": "text"
      },
      "source": [
        "In some of the problems, we have more outputs than one. \n",
        "for example, in one output we want to detect face and in other output we want to detect glass."
      ]
    },
    {
      "cell_type": "code",
      "metadata": {
        "id": "oaX7IT6SDMeK",
        "colab_type": "code",
        "colab": {}
      },
      "source": [
        "input_shape = X_train_A.shape[1:]\n",
        "input_shape1 = X_train_B.shape[1:]"
      ],
      "execution_count": 20,
      "outputs": []
    },
    {
      "cell_type": "code",
      "metadata": {
        "id": "tgEKwi_-29JX",
        "colab_type": "code",
        "colab": {}
      },
      "source": [
        "input_A = keras.layers.Input(shape=input_shape, name='deep_input')\n",
        "input_B = keras.layers.Input(shape=input_shape1, name='wide_input')\n",
        "hidden1 = keras.layers.Dense(32, activation='relu')(input_A)\n",
        "hidden2 = keras.layers.Dense(64, activation='relu')(hidden1)\n",
        "concat = keras.layers.Concatenate()([input_A, hidden2])\n",
        "output = keras.layers.Dense(1)(concat)\n",
        "aux_output = keras.layers.Dense(1)(hidden2)\n",
        "\n",
        "model = keras.Model(inputs=[input_A, input_B], outputs =[output, aux_output])"
      ],
      "execution_count": 21,
      "outputs": []
    },
    {
      "cell_type": "markdown",
      "metadata": {
        "id": "-RZ3fd4H4O_2",
        "colab_type": "text"
      },
      "source": [
        "**bold text**\n",
        "\n",
        "1.   Each of the outputs has its own loss function\n",
        "2.   If we pass only one loss, then keras will by defualt assume same loss for both outputs and keras will simply add these losses used for training.\n"
      ]
    },
    {
      "cell_type": "markdown",
      "metadata": {
        "id": "Zl3CD7bB5MRK",
        "colab_type": "text"
      },
      "source": [
        "IN this example we are using aux_output as a reguralarization, so we will give more weightage to output loss than aux_output"
      ]
    },
    {
      "cell_type": "code",
      "metadata": {
        "id": "pznKqWJl32n8",
        "colab_type": "code",
        "colab": {}
      },
      "source": [
        "model.compile(loss = ['mse','mse'], loss_weights=[0.9,0.1], optimizer = 'sgd')"
      ],
      "execution_count": 25,
      "outputs": []
    },
    {
      "cell_type": "markdown",
      "metadata": {
        "id": "oiRrnp5E72aG",
        "colab_type": "text"
      },
      "source": [
        "since aux_output is also trying to predict same thing. so training labels will be same for both"
      ]
    },
    {
      "cell_type": "code",
      "metadata": {
        "id": "_jJaf20g79kP",
        "colab_type": "code",
        "colab": {
          "base_uri": "https://localhost:8080/",
          "height": 402
        },
        "outputId": "f2821514-fe58-416e-96cd-fcbda2aefda7"
      },
      "source": [
        "model.fit([X_train_A, X_train_B], [y_train, y_train], validation_data=([X_valid_A, X_valid_B],[y_valid,y_valid]), epochs=10 )"
      ],
      "execution_count": 28,
      "outputs": [
        {
          "output_type": "stream",
          "text": [
            "Epoch 1/10\n",
            "363/363 [==============================] - 2s 5ms/step - loss: 0.9901 - dense_6_loss: 0.8564 - dense_7_loss: 2.1938 - val_loss: 0.6407 - val_dense_6_loss: 0.6143 - val_dense_7_loss: 0.8777\n",
            "Epoch 2/10\n",
            "363/363 [==============================] - 2s 5ms/step - loss: 0.6072 - dense_6_loss: 0.5928 - dense_7_loss: 0.7368 - val_loss: 0.5890 - val_dense_6_loss: 0.5831 - val_dense_7_loss: 0.6418\n",
            "Epoch 3/10\n",
            "363/363 [==============================] - 2s 5ms/step - loss: 0.5857 - dense_6_loss: 0.5826 - dense_7_loss: 0.6141 - val_loss: 0.5716 - val_dense_6_loss: 0.5681 - val_dense_7_loss: 0.6028\n",
            "Epoch 4/10\n",
            "363/363 [==============================] - 2s 5ms/step - loss: 0.5779 - dense_6_loss: 0.5767 - dense_7_loss: 0.5891 - val_loss: 0.5632 - val_dense_6_loss: 0.5601 - val_dense_7_loss: 0.5907\n",
            "Epoch 5/10\n",
            "363/363 [==============================] - 2s 5ms/step - loss: 0.5564 - dense_6_loss: 0.5542 - dense_7_loss: 0.5758 - val_loss: 0.5572 - val_dense_6_loss: 0.5548 - val_dense_7_loss: 0.5794\n",
            "Epoch 6/10\n",
            "363/363 [==============================] - 2s 5ms/step - loss: 0.5553 - dense_6_loss: 0.5541 - dense_7_loss: 0.5659 - val_loss: 0.5532 - val_dense_6_loss: 0.5511 - val_dense_7_loss: 0.5720\n",
            "Epoch 7/10\n",
            "363/363 [==============================] - 2s 5ms/step - loss: 0.5451 - dense_6_loss: 0.5436 - dense_7_loss: 0.5585 - val_loss: 0.5454 - val_dense_6_loss: 0.5434 - val_dense_7_loss: 0.5630\n",
            "Epoch 8/10\n",
            "363/363 [==============================] - 2s 5ms/step - loss: 0.5361 - dense_6_loss: 0.5345 - dense_7_loss: 0.5505 - val_loss: 0.5374 - val_dense_6_loss: 0.5352 - val_dense_7_loss: 0.5574\n",
            "Epoch 9/10\n",
            "363/363 [==============================] - 2s 5ms/step - loss: 0.5322 - dense_6_loss: 0.5306 - dense_7_loss: 0.5468 - val_loss: 0.5366 - val_dense_6_loss: 0.5346 - val_dense_7_loss: 0.5546\n",
            "Epoch 10/10\n",
            "363/363 [==============================] - 2s 5ms/step - loss: 0.5295 - dense_6_loss: 0.5279 - dense_7_loss: 0.5437 - val_loss: 0.5356 - val_dense_6_loss: 0.5336 - val_dense_7_loss: 0.5534\n"
          ],
          "name": "stdout"
        },
        {
          "output_type": "execute_result",
          "data": {
            "text/plain": [
              "<tensorflow.python.keras.callbacks.History at 0x7f0de00d0470>"
            ]
          },
          "metadata": {
            "tags": []
          },
          "execution_count": 28
        }
      ]
    },
    {
      "cell_type": "markdown",
      "metadata": {
        "id": "ZJmcNB3c9ZdT",
        "colab_type": "text"
      },
      "source": [
        "When we evaluate the model, Keras will return the total loss, as well as all the individ‐\n",
        "ual losses:"
      ]
    },
    {
      "cell_type": "code",
      "metadata": {
        "id": "CGp5Tsd08-Hn",
        "colab_type": "code",
        "colab": {}
      },
      "source": [
        "y_new_main, y_new_aux = model.predict([X_new_A, X_new_B])"
      ],
      "execution_count": 30,
      "outputs": []
    },
    {
      "cell_type": "code",
      "metadata": {
        "id": "vi4rQilOF-5A",
        "colab_type": "code",
        "colab": {}
      },
      "source": [
        ""
      ],
      "execution_count": null,
      "outputs": []
    }
  ]
}