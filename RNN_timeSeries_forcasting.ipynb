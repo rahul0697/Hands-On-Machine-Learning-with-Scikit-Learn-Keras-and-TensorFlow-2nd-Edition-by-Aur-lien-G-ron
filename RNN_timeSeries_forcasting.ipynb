{
  "nbformat": 4,
  "nbformat_minor": 0,
  "metadata": {
    "colab": {
      "name": "RNN_timeSeries_forcasting.ipynb",
      "provenance": [],
      "collapsed_sections": []
    },
    "kernelspec": {
      "name": "python3",
      "display_name": "Python 3"
    }
  },
  "cells": [
    {
      "cell_type": "markdown",
      "metadata": {
        "id": "6bdEO0tvQooN",
        "colab_type": "text"
      },
      "source": [
        "![](https://upload.wikimedia.org/wikipedia/commons/b/b5/Recurrent_neural_network_unfold.svg)"
      ]
    },
    {
      "cell_type": "code",
      "metadata": {
        "id": "MFW5upPTZP_M",
        "colab_type": "code",
        "colab": {}
      },
      "source": [
        "import numpy as np\n",
        "from tensorflow import keras\n"
      ],
      "execution_count": 1,
      "outputs": []
    },
    {
      "cell_type": "code",
      "metadata": {
        "id": "bntXzT4sUZl8",
        "colab_type": "code",
        "colab": {}
      },
      "source": [
        "\n",
        "def generate_time_series(batch_size, n_steps):\n",
        "  freq1, freq2, offsets1, offsets2 = np.random.rand(4, batch_size, 1)\n",
        "  time = np.linspace(0, 1, n_steps)\n",
        "  series = 0.5 * np.sin((time - offsets1) * (freq1 * 10 + 10)) # wave 1\n",
        "  series += 0.2 * np.sin((time - offsets2) * (freq2 * 20 + 20)) # + wave 2\n",
        "  series += 0.1 * (np.random.rand(batch_size, n_steps) - 0.5)\n",
        "  # + noise\n",
        "  return series[..., np.newaxis].astype(np.float32)"
      ],
      "execution_count": 2,
      "outputs": []
    },
    {
      "cell_type": "code",
      "metadata": {
        "id": "bEMPavyAUcTV",
        "colab_type": "code",
        "colab": {
          "base_uri": "https://localhost:8080/",
          "height": 34
        },
        "outputId": "544744ac-8295-4ddf-fa7e-ce9008401e06"
      },
      "source": [
        "generate_time_series(5,100).shape"
      ],
      "execution_count": 3,
      "outputs": [
        {
          "output_type": "execute_result",
          "data": {
            "text/plain": [
              "(5, 100, 1)"
            ]
          },
          "metadata": {
            "tags": []
          },
          "execution_count": 3
        }
      ]
    },
    {
      "cell_type": "markdown",
      "metadata": {
        "id": "BJ_uevWRVDBb",
        "colab_type": "text"
      },
      "source": [
        "When dealing with time series (and other types of sequences such\n",
        "as sentences), the input features are generally represented as 3D\n",
        "arrays of shape **[batch size, time steps, dimensionality**], where\n",
        "dimensionality is 1 for univariate time series and more for multi‐\n",
        "variate time series."
      ]
    },
    {
      "cell_type": "code",
      "metadata": {
        "id": "q15dR0UBUjK7",
        "colab_type": "code",
        "colab": {}
      },
      "source": [
        "n_steps = 50\n",
        "series = generate_time_series(10000, n_steps+1)\n",
        "X_train, y_train = series[:7000,:n_steps], series[:7000,-1]\n",
        "X_valid, y_valid = series[7000:9000,:n_steps], series[7000:9000,-1]\n",
        "X_test, y_test = series[9000:,:n_steps], series[9000:,-1]"
      ],
      "execution_count": 23,
      "outputs": []
    },
    {
      "cell_type": "code",
      "metadata": {
        "id": "_u8C1HtCXX3f",
        "colab_type": "code",
        "colab": {
          "base_uri": "https://localhost:8080/",
          "height": 69
        },
        "outputId": "a74f8002-fe1f-4d46-fadf-ffc20ee46e0c"
      },
      "source": [
        "print(X_train.shape)\n",
        "print(y_train.shape)\n",
        "print(y_valid.shape)"
      ],
      "execution_count": 28,
      "outputs": [
        {
          "output_type": "stream",
          "text": [
            "(7000, 50, 1)\n",
            "(7000, 1)\n",
            "(2000, 1)\n"
          ],
          "name": "stdout"
        }
      ]
    },
    {
      "cell_type": "markdown",
      "metadata": {
        "id": "Y9t8RQJrYvgI",
        "colab_type": "text"
      },
      "source": [
        "**BaseLine Model** Naive Forcasting"
      ]
    },
    {
      "cell_type": "code",
      "metadata": {
        "id": "C88tvr_EXa0I",
        "colab_type": "code",
        "colab": {}
      },
      "source": [
        "y_pred = X_valid[:,-1]"
      ],
      "execution_count": 29,
      "outputs": []
    },
    {
      "cell_type": "code",
      "metadata": {
        "id": "ah4QtK6CY8vY",
        "colab_type": "code",
        "colab": {
          "base_uri": "https://localhost:8080/",
          "height": 34
        },
        "outputId": "da16d833-2dae-45be-d642-ffa242bc329a"
      },
      "source": [
        "tf.reduce_mean((keras.losses.mean_squared_error(y_valid, y_pred))).numpy()"
      ],
      "execution_count": 34,
      "outputs": [
        {
          "output_type": "execute_result",
          "data": {
            "text/plain": [
              "0.021166451"
            ]
          },
          "metadata": {
            "tags": []
          },
          "execution_count": 34
        }
      ]
    },
    {
      "cell_type": "code",
      "metadata": {
        "id": "42OLRefDZdmW",
        "colab_type": "code",
        "colab": {}
      },
      "source": [
        "model = keras.Sequential([\n",
        "                          keras.layers.Input(shape=[50,1]),\n",
        "                          keras.layers.Flatten(),\n",
        "                          keras.layers.Dense(1)\n",
        "])"
      ],
      "execution_count": 35,
      "outputs": []
    },
    {
      "cell_type": "code",
      "metadata": {
        "id": "EQhFO3m6aGmm",
        "colab_type": "code",
        "colab": {
          "base_uri": "https://localhost:8080/",
          "height": 225
        },
        "outputId": "7100dc43-c1e3-4ac3-afec-6c562ecec58d"
      },
      "source": [
        "model.summary()"
      ],
      "execution_count": 36,
      "outputs": [
        {
          "output_type": "stream",
          "text": [
            "Model: \"sequential_1\"\n",
            "_________________________________________________________________\n",
            "Layer (type)                 Output Shape              Param #   \n",
            "=================================================================\n",
            "flatten (Flatten)            (None, 50)                0         \n",
            "_________________________________________________________________\n",
            "dense_1 (Dense)              (None, 1)                 51        \n",
            "=================================================================\n",
            "Total params: 51\n",
            "Trainable params: 51\n",
            "Non-trainable params: 0\n",
            "_________________________________________________________________\n"
          ],
          "name": "stdout"
        }
      ]
    },
    {
      "cell_type": "code",
      "metadata": {
        "id": "0m2i_g8EacSd",
        "colab_type": "code",
        "colab": {
          "base_uri": "https://localhost:8080/",
          "height": 729
        },
        "outputId": "5d03fec7-be5f-4730-cf44-ad62d0b54f20"
      },
      "source": [
        "model.compile(optimizer='Adam', loss = keras.losses.mean_squared_error)\n",
        "model.fit(X_train,y_train, validation_data=(X_valid,y_valid), epochs=20)"
      ],
      "execution_count": 37,
      "outputs": [
        {
          "output_type": "stream",
          "text": [
            "Epoch 1/20\n",
            "219/219 [==============================] - 0s 2ms/step - loss: 0.1770 - val_loss: 0.0677\n",
            "Epoch 2/20\n",
            "219/219 [==============================] - 0s 1ms/step - loss: 0.0536 - val_loss: 0.0374\n",
            "Epoch 3/20\n",
            "219/219 [==============================] - 0s 1ms/step - loss: 0.0319 - val_loss: 0.0255\n",
            "Epoch 4/20\n",
            "219/219 [==============================] - 0s 1ms/step - loss: 0.0224 - val_loss: 0.0198\n",
            "Epoch 5/20\n",
            "219/219 [==============================] - 0s 1ms/step - loss: 0.0174 - val_loss: 0.0163\n",
            "Epoch 6/20\n",
            "219/219 [==============================] - 0s 2ms/step - loss: 0.0143 - val_loss: 0.0139\n",
            "Epoch 7/20\n",
            "219/219 [==============================] - 0s 1ms/step - loss: 0.0122 - val_loss: 0.0121\n",
            "Epoch 8/20\n",
            "219/219 [==============================] - 0s 1ms/step - loss: 0.0105 - val_loss: 0.0105\n",
            "Epoch 9/20\n",
            "219/219 [==============================] - 0s 1ms/step - loss: 0.0092 - val_loss: 0.0092\n",
            "Epoch 10/20\n",
            "219/219 [==============================] - 0s 1ms/step - loss: 0.0081 - val_loss: 0.0081\n",
            "Epoch 11/20\n",
            "219/219 [==============================] - 0s 1ms/step - loss: 0.0071 - val_loss: 0.0072\n",
            "Epoch 12/20\n",
            "219/219 [==============================] - 0s 1ms/step - loss: 0.0064 - val_loss: 0.0065\n",
            "Epoch 13/20\n",
            "219/219 [==============================] - 0s 1ms/step - loss: 0.0058 - val_loss: 0.0059\n",
            "Epoch 14/20\n",
            "219/219 [==============================] - 0s 1ms/step - loss: 0.0054 - val_loss: 0.0055\n",
            "Epoch 15/20\n",
            "219/219 [==============================] - 0s 1ms/step - loss: 0.0050 - val_loss: 0.0052\n",
            "Epoch 16/20\n",
            "219/219 [==============================] - 0s 1ms/step - loss: 0.0047 - val_loss: 0.0048\n",
            "Epoch 17/20\n",
            "219/219 [==============================] - 0s 1ms/step - loss: 0.0045 - val_loss: 0.0046\n",
            "Epoch 18/20\n",
            "219/219 [==============================] - 0s 1ms/step - loss: 0.0044 - val_loss: 0.0045\n",
            "Epoch 19/20\n",
            "219/219 [==============================] - 0s 1ms/step - loss: 0.0042 - val_loss: 0.0043\n",
            "Epoch 20/20\n",
            "219/219 [==============================] - 0s 1ms/step - loss: 0.0041 - val_loss: 0.0042\n"
          ],
          "name": "stdout"
        },
        {
          "output_type": "execute_result",
          "data": {
            "text/plain": [
              "<tensorflow.python.keras.callbacks.History at 0x7f83bb47e2e8>"
            ]
          },
          "metadata": {
            "tags": []
          },
          "execution_count": 37
        }
      ]
    },
    {
      "cell_type": "markdown",
      "metadata": {
        "id": "-1PvYIU3jv8t",
        "colab_type": "text"
      },
      "source": [
        "**Implementing a Simple RNN**"
      ]
    },
    {
      "cell_type": "code",
      "metadata": {
        "id": "2HCRc-4MbNbO",
        "colab_type": "code",
        "colab": {}
      },
      "source": [
        "import tensorflow as tf\n",
        "tf.keras.backend.clear_session()\n",
        "model = keras.Sequential([\n",
        "                          keras.layers.SimpleRNN(10, input_shape=[None,1])\n",
        "])"
      ],
      "execution_count": 11,
      "outputs": []
    },
    {
      "cell_type": "code",
      "metadata": {
        "id": "m0SdnDTkj7Yk",
        "colab_type": "code",
        "colab": {
          "base_uri": "https://localhost:8080/",
          "height": 191
        },
        "outputId": "c8c58cd3-e8d2-48e4-d987-1d1064860802"
      },
      "source": [
        "model.summary()"
      ],
      "execution_count": 12,
      "outputs": [
        {
          "output_type": "stream",
          "text": [
            "Model: \"sequential\"\n",
            "_________________________________________________________________\n",
            "Layer (type)                 Output Shape              Param #   \n",
            "=================================================================\n",
            "simple_rnn (SimpleRNN)       (None, 10)                120       \n",
            "=================================================================\n",
            "Total params: 120\n",
            "Trainable params: 120\n",
            "Non-trainable params: 0\n",
            "_________________________________________________________________\n"
          ],
          "name": "stdout"
        }
      ]
    },
    {
      "cell_type": "code",
      "metadata": {
        "id": "a8hFVZf1j9ew",
        "colab_type": "code",
        "colab": {
          "base_uri": "https://localhost:8080/",
          "height": 729
        },
        "outputId": "961e5d88-4195-41d1-82dd-863276410366"
      },
      "source": [
        "model.compile(optimizer='Adam', loss='mse')\n",
        "\n",
        "model.fit(X_train, y_train, epochs=20)"
      ],
      "execution_count": 13,
      "outputs": [
        {
          "output_type": "stream",
          "text": [
            "Epoch 1/20\n",
            "219/219 [==============================] - 2s 8ms/step - loss: 0.0924\n",
            "Epoch 2/20\n",
            "219/219 [==============================] - 2s 7ms/step - loss: 0.0365\n",
            "Epoch 3/20\n",
            "219/219 [==============================] - 2s 7ms/step - loss: 0.0260\n",
            "Epoch 4/20\n",
            "219/219 [==============================] - 2s 8ms/step - loss: 0.0215\n",
            "Epoch 5/20\n",
            "219/219 [==============================] - 2s 7ms/step - loss: 0.0187\n",
            "Epoch 6/20\n",
            "219/219 [==============================] - 2s 7ms/step - loss: 0.0167\n",
            "Epoch 7/20\n",
            "219/219 [==============================] - 2s 8ms/step - loss: 0.0152\n",
            "Epoch 8/20\n",
            "219/219 [==============================] - 2s 7ms/step - loss: 0.0138\n",
            "Epoch 9/20\n",
            "219/219 [==============================] - 2s 7ms/step - loss: 0.0128\n",
            "Epoch 10/20\n",
            "219/219 [==============================] - 2s 7ms/step - loss: 0.0120\n",
            "Epoch 11/20\n",
            "219/219 [==============================] - 2s 8ms/step - loss: 0.0113\n",
            "Epoch 12/20\n",
            "219/219 [==============================] - 2s 7ms/step - loss: 0.0106\n",
            "Epoch 13/20\n",
            "219/219 [==============================] - 2s 7ms/step - loss: 0.0100\n",
            "Epoch 14/20\n",
            "219/219 [==============================] - 2s 8ms/step - loss: 0.0095\n",
            "Epoch 15/20\n",
            "219/219 [==============================] - 2s 8ms/step - loss: 0.0091\n",
            "Epoch 16/20\n",
            "219/219 [==============================] - 2s 7ms/step - loss: 0.0087\n",
            "Epoch 17/20\n",
            "219/219 [==============================] - 2s 8ms/step - loss: 0.0085\n",
            "Epoch 18/20\n",
            "219/219 [==============================] - 2s 7ms/step - loss: 0.0083\n",
            "Epoch 19/20\n",
            "219/219 [==============================] - 2s 7ms/step - loss: 0.0081\n",
            "Epoch 20/20\n",
            "219/219 [==============================] - 2s 7ms/step - loss: 0.0080\n"
          ],
          "name": "stdout"
        },
        {
          "output_type": "execute_result",
          "data": {
            "text/plain": [
              "<tensorflow.python.keras.callbacks.History at 0x7f83bf91d630>"
            ]
          },
          "metadata": {
            "tags": []
          },
          "execution_count": 13
        }
      ]
    },
    {
      "cell_type": "code",
      "metadata": {
        "id": "JRZOWG-_lfnF",
        "colab_type": "code",
        "colab": {
          "base_uri": "https://localhost:8080/",
          "height": 34
        },
        "outputId": "05483d67-b02b-4247-a3a6-88537502c498"
      },
      "source": [
        "X_train.shape"
      ],
      "execution_count": 14,
      "outputs": [
        {
          "output_type": "execute_result",
          "data": {
            "text/plain": [
              "(7000, 50, 1)"
            ]
          },
          "metadata": {
            "tags": []
          },
          "execution_count": 14
        }
      ]
    },
    {
      "cell_type": "code",
      "metadata": {
        "id": "murlSazqkHdu",
        "colab_type": "code",
        "colab": {
          "base_uri": "https://localhost:8080/",
          "height": 34
        },
        "outputId": "0c7f0a56-98ad-4694-a123-6ee58b9ee490"
      },
      "source": [
        "y_pred = model.predict(X_test)\n",
        "np.mean(keras.losses.mean_squared_error(y_test, y_pred))"
      ],
      "execution_count": 15,
      "outputs": [
        {
          "output_type": "execute_result",
          "data": {
            "text/plain": [
              "0.0077632405"
            ]
          },
          "metadata": {
            "tags": []
          },
          "execution_count": 15
        }
      ]
    },
    {
      "cell_type": "markdown",
      "metadata": {
        "id": "m1_W4idOnsJp",
        "colab_type": "text"
      },
      "source": [
        "![Deep RNN](https://stanford.edu/~shervine/teaching/cs-230/illustrations/deep-rnn-ltr.png?f57da6de44ddd4709ad3b696cac6a912)"
      ]
    },
    {
      "cell_type": "code",
      "metadata": {
        "id": "bWPutEsOlVR9",
        "colab_type": "code",
        "colab": {}
      },
      "source": [
        "#using Deep RNN\n",
        "tf.keras.backend.clear_session()\n",
        "model = keras.Sequential([\n",
        "                          keras.layers.SimpleRNN(30, return_sequences=True, input_shape=[None,1]),\n",
        "                          keras.layers.SimpleRNN(30, return_sequences=True),\n",
        "                          keras.layers.SimpleRNN(1)\n",
        "])"
      ],
      "execution_count": 16,
      "outputs": []
    },
    {
      "cell_type": "code",
      "metadata": {
        "id": "mVdqP5FTpCvH",
        "colab_type": "code",
        "colab": {
          "base_uri": "https://localhost:8080/",
          "height": 729
        },
        "outputId": "9367b04c-86b7-4cda-f48d-b447478268b3"
      },
      "source": [
        "model.compile(optimizer='Adam', loss = tf.keras.losses.mean_squared_error)\n",
        "model.fit(X_train, y_train, validation_data=(X_valid, y_valid), epochs=20)"
      ],
      "execution_count": 17,
      "outputs": [
        {
          "output_type": "stream",
          "text": [
            "Epoch 1/20\n",
            "219/219 [==============================] - 6s 27ms/step - loss: 0.0135 - val_loss: 0.0045\n",
            "Epoch 2/20\n",
            "219/219 [==============================] - 6s 26ms/step - loss: 0.0037 - val_loss: 0.0036\n",
            "Epoch 3/20\n",
            "219/219 [==============================] - 6s 26ms/step - loss: 0.0033 - val_loss: 0.0035\n",
            "Epoch 4/20\n",
            "219/219 [==============================] - 6s 26ms/step - loss: 0.0032 - val_loss: 0.0034\n",
            "Epoch 5/20\n",
            "219/219 [==============================] - 6s 26ms/step - loss: 0.0031 - val_loss: 0.0031\n",
            "Epoch 6/20\n",
            "219/219 [==============================] - 6s 26ms/step - loss: 0.0030 - val_loss: 0.0030\n",
            "Epoch 7/20\n",
            "219/219 [==============================] - 6s 27ms/step - loss: 0.0029 - val_loss: 0.0030\n",
            "Epoch 8/20\n",
            "219/219 [==============================] - 6s 26ms/step - loss: 0.0028 - val_loss: 0.0035\n",
            "Epoch 9/20\n",
            "219/219 [==============================] - 6s 26ms/step - loss: 0.0029 - val_loss: 0.0030\n",
            "Epoch 10/20\n",
            "219/219 [==============================] - 6s 26ms/step - loss: 0.0028 - val_loss: 0.0029\n",
            "Epoch 11/20\n",
            "219/219 [==============================] - 6s 27ms/step - loss: 0.0028 - val_loss: 0.0030\n",
            "Epoch 12/20\n",
            "219/219 [==============================] - 6s 26ms/step - loss: 0.0028 - val_loss: 0.0030\n",
            "Epoch 13/20\n",
            "219/219 [==============================] - 6s 27ms/step - loss: 0.0027 - val_loss: 0.0032\n",
            "Epoch 14/20\n",
            "219/219 [==============================] - 6s 26ms/step - loss: 0.0027 - val_loss: 0.0030\n",
            "Epoch 15/20\n",
            "219/219 [==============================] - 6s 25ms/step - loss: 0.0027 - val_loss: 0.0028\n",
            "Epoch 16/20\n",
            "219/219 [==============================] - 6s 26ms/step - loss: 0.0027 - val_loss: 0.0028\n",
            "Epoch 17/20\n",
            "219/219 [==============================] - 6s 26ms/step - loss: 0.0027 - val_loss: 0.0031\n",
            "Epoch 18/20\n",
            "219/219 [==============================] - 6s 26ms/step - loss: 0.0027 - val_loss: 0.0032\n",
            "Epoch 19/20\n",
            "219/219 [==============================] - 6s 25ms/step - loss: 0.0027 - val_loss: 0.0030\n",
            "Epoch 20/20\n",
            "219/219 [==============================] - 6s 26ms/step - loss: 0.0026 - val_loss: 0.0027\n"
          ],
          "name": "stdout"
        },
        {
          "output_type": "execute_result",
          "data": {
            "text/plain": [
              "<tensorflow.python.keras.callbacks.History at 0x7f83bfed4208>"
            ]
          },
          "metadata": {
            "tags": []
          },
          "execution_count": 17
        }
      ]
    },
    {
      "cell_type": "code",
      "metadata": {
        "id": "u57tHjUmpXbm",
        "colab_type": "code",
        "colab": {}
      },
      "source": [
        "y_pred = model.predict(X_test)"
      ],
      "execution_count": 18,
      "outputs": []
    },
    {
      "cell_type": "code",
      "metadata": {
        "id": "jkNhj74AqUI5",
        "colab_type": "code",
        "colab": {
          "base_uri": "https://localhost:8080/",
          "height": 34
        },
        "outputId": "2fd2727d-e8fb-4e1d-cd67-715d4356dc34"
      },
      "source": [
        "y_pred.shape"
      ],
      "execution_count": 19,
      "outputs": [
        {
          "output_type": "execute_result",
          "data": {
            "text/plain": [
              "(1000, 1)"
            ]
          },
          "metadata": {
            "tags": []
          },
          "execution_count": 19
        }
      ]
    },
    {
      "cell_type": "code",
      "metadata": {
        "id": "EminrBCTqV0i",
        "colab_type": "code",
        "colab": {
          "base_uri": "https://localhost:8080/",
          "height": 34
        },
        "outputId": "f8b2aadf-ac30-493a-9355-d85bb5f65883"
      },
      "source": [
        "np.mean(keras.metrics.mean_squared_error(y_pred,y_test))"
      ],
      "execution_count": 20,
      "outputs": [
        {
          "output_type": "execute_result",
          "data": {
            "text/plain": [
              "0.0025719877"
            ]
          },
          "metadata": {
            "tags": []
          },
          "execution_count": 20
        }
      ]
    },
    {
      "cell_type": "code",
      "metadata": {
        "id": "mpkfdDqNqljE",
        "colab_type": "code",
        "colab": {}
      },
      "source": [
        ""
      ],
      "execution_count": 20,
      "outputs": []
    },
    {
      "cell_type": "markdown",
      "metadata": {
        "id": "xWceMwNPq-qw",
        "colab_type": "text"
      },
      "source": [
        "1. Last layer is not ideal.\n",
        "2. Last layers should have one neuron since we want a single output corresponding to single input.\n",
        "3.Last layer does not make much difference since it has only one neuron, so it does not contribute much in training.\n",
        "4.SimpleRNN uses tanh activation function which outputs values between -1 and 1. \n",
        "5. if we want to use other activation function, then we need to add dense layer in the last layer.\n",
        "6. It decreases the training time"
      ]
    },
    {
      "cell_type": "code",
      "metadata": {
        "id": "ZttpfmzGrwcq",
        "colab_type": "code",
        "colab": {}
      },
      "source": [
        "keras.backend.clear_session()\n",
        "model = keras.Sequential([\n",
        "                          keras.layers.SimpleRNN(20, return_sequences=True, input_shape=[None,1]),\n",
        "                          keras.layers.SimpleRNN(20),\n",
        "                          keras.layers.Dense(1)\n",
        "])"
      ],
      "execution_count": 21,
      "outputs": []
    },
    {
      "cell_type": "code",
      "metadata": {
        "id": "eU3XkkWbsFc6",
        "colab_type": "code",
        "colab": {
          "base_uri": "https://localhost:8080/",
          "height": 729
        },
        "outputId": "ccd0d601-2c84-41a1-8c60-e07e5e2f4b90"
      },
      "source": [
        "model.compile(optimizer='Adam', loss = tf.keras.losses.mean_squared_error)\n",
        "model.fit(X_train, y_train, validation_data=(X_valid, y_valid), epochs=20)"
      ],
      "execution_count": 22,
      "outputs": [
        {
          "output_type": "stream",
          "text": [
            "Epoch 1/20\n",
            "219/219 [==============================] - 4s 18ms/step - loss: 0.0124 - val_loss: 0.0041\n",
            "Epoch 2/20\n",
            "219/219 [==============================] - 4s 17ms/step - loss: 0.0036 - val_loss: 0.0037\n",
            "Epoch 3/20\n",
            "219/219 [==============================] - 4s 17ms/step - loss: 0.0033 - val_loss: 0.0036\n",
            "Epoch 4/20\n",
            "219/219 [==============================] - 4s 17ms/step - loss: 0.0033 - val_loss: 0.0034\n",
            "Epoch 5/20\n",
            "219/219 [==============================] - 4s 17ms/step - loss: 0.0032 - val_loss: 0.0033\n",
            "Epoch 6/20\n",
            "219/219 [==============================] - 4s 17ms/step - loss: 0.0030 - val_loss: 0.0031\n",
            "Epoch 7/20\n",
            "219/219 [==============================] - 4s 17ms/step - loss: 0.0030 - val_loss: 0.0033\n",
            "Epoch 8/20\n",
            "219/219 [==============================] - 4s 17ms/step - loss: 0.0029 - val_loss: 0.0031\n",
            "Epoch 9/20\n",
            "219/219 [==============================] - 4s 17ms/step - loss: 0.0029 - val_loss: 0.0029\n",
            "Epoch 10/20\n",
            "219/219 [==============================] - 4s 18ms/step - loss: 0.0028 - val_loss: 0.0032\n",
            "Epoch 11/20\n",
            "219/219 [==============================] - 4s 18ms/step - loss: 0.0028 - val_loss: 0.0032\n",
            "Epoch 12/20\n",
            "219/219 [==============================] - 4s 17ms/step - loss: 0.0028 - val_loss: 0.0028\n",
            "Epoch 13/20\n",
            "219/219 [==============================] - 4s 17ms/step - loss: 0.0027 - val_loss: 0.0028\n",
            "Epoch 14/20\n",
            "219/219 [==============================] - 4s 17ms/step - loss: 0.0028 - val_loss: 0.0029\n",
            "Epoch 15/20\n",
            "219/219 [==============================] - 4s 17ms/step - loss: 0.0027 - val_loss: 0.0028\n",
            "Epoch 16/20\n",
            "219/219 [==============================] - 4s 17ms/step - loss: 0.0027 - val_loss: 0.0029\n",
            "Epoch 17/20\n",
            "219/219 [==============================] - 4s 17ms/step - loss: 0.0027 - val_loss: 0.0028\n",
            "Epoch 18/20\n",
            "219/219 [==============================] - 4s 17ms/step - loss: 0.0026 - val_loss: 0.0027\n",
            "Epoch 19/20\n",
            "219/219 [==============================] - 4s 17ms/step - loss: 0.0026 - val_loss: 0.0033\n",
            "Epoch 20/20\n",
            "219/219 [==============================] - 4s 17ms/step - loss: 0.0027 - val_loss: 0.0031\n"
          ],
          "name": "stdout"
        },
        {
          "output_type": "execute_result",
          "data": {
            "text/plain": [
              "<tensorflow.python.keras.callbacks.History at 0x7f83bdf8fb38>"
            ]
          },
          "metadata": {
            "tags": []
          },
          "execution_count": 22
        }
      ]
    },
    {
      "cell_type": "markdown",
      "metadata": {
        "id": "5xzd7YTjps86",
        "colab_type": "text"
      },
      "source": [
        "**Forecasting Several Time Steps Ahead**"
      ]
    },
    {
      "cell_type": "markdown",
      "metadata": {
        "id": "X9Tn7bSwq3Bk",
        "colab_type": "text"
      },
      "source": [
        "1. If we want to predct next 10 timevalues, then we need to use 10 neurons at the output layer.\n",
        "2. It can also be done using the 1 nueuron as discussed below.\n",
        " we will concatenate the next value predicted by above model with the input which will act as a input for the next value prediction and so on we can use same model 10 times to predict next 10 values"
      ]
    },
    {
      "cell_type": "code",
      "metadata": {
        "id": "GJxUKrc4sOID",
        "colab_type": "code",
        "colab": {}
      },
      "source": [
        "series = generate_time_series(1, n_steps + 10) #create a test input having 50+10 timestamps values."
      ],
      "execution_count": 38,
      "outputs": []
    },
    {
      "cell_type": "code",
      "metadata": {
        "id": "dZD1ItVFsC4s",
        "colab_type": "code",
        "colab": {}
      },
      "source": [
        "X_new, y_new = series[:,:n_steps], series[:,n_steps:]"
      ],
      "execution_count": 64,
      "outputs": []
    },
    {
      "cell_type": "code",
      "metadata": {
        "id": "rYuu9bi-sVvF",
        "colab_type": "code",
        "colab": {
          "base_uri": "https://localhost:8080/",
          "height": 52
        },
        "outputId": "00f40566-b14c-4558-d109-255324cdfee9"
      },
      "source": [
        "print(X_new.shape)\n",
        "print(y_new.shape)"
      ],
      "execution_count": 65,
      "outputs": [
        {
          "output_type": "stream",
          "text": [
            "(1, 50, 1)\n",
            "(1, 10, 1)\n"
          ],
          "name": "stdout"
        }
      ]
    },
    {
      "cell_type": "code",
      "metadata": {
        "id": "a7FQmVt6xi1P",
        "colab_type": "code",
        "colab": {}
      },
      "source": [
        "X = X_new"
      ],
      "execution_count": 90,
      "outputs": []
    },
    {
      "cell_type": "code",
      "metadata": {
        "id": "eo-BZZMdx5En",
        "colab_type": "code",
        "colab": {
          "base_uri": "https://localhost:8080/",
          "height": 191
        },
        "outputId": "8142163b-8da1-4fbc-c204-9ca2df2d5dc8"
      },
      "source": [
        "for steps in range(10):\n",
        "  y_pred = model.predict(X[:, steps: steps + n_steps])\n",
        "  X = np.concatenate((X, np.expand_dims(y_pred,axis=-1)) , axis=1)\n",
        "  print(X.shape)"
      ],
      "execution_count": 91,
      "outputs": [
        {
          "output_type": "stream",
          "text": [
            "(1, 51, 1)\n",
            "(1, 52, 1)\n",
            "(1, 53, 1)\n",
            "(1, 54, 1)\n",
            "(1, 55, 1)\n",
            "(1, 56, 1)\n",
            "(1, 57, 1)\n",
            "(1, 58, 1)\n",
            "(1, 59, 1)\n",
            "(1, 60, 1)\n"
          ],
          "name": "stdout"
        }
      ]
    },
    {
      "cell_type": "code",
      "metadata": {
        "id": "OvqtuXEd1aHL",
        "colab_type": "code",
        "colab": {}
      },
      "source": [
        "y_pred = X[:,50:61,:]"
      ],
      "execution_count": 102,
      "outputs": []
    },
    {
      "cell_type": "code",
      "metadata": {
        "id": "LSZ2QfSd0BYm",
        "colab_type": "code",
        "colab": {
          "base_uri": "https://localhost:8080/",
          "height": 34
        },
        "outputId": "5533e540-8680-4406-eb32-af574942daf2"
      },
      "source": [
        "np.mean(keras.losses.mean_squared_error(y_pred,y_new))"
      ],
      "execution_count": 103,
      "outputs": [
        {
          "output_type": "execute_result",
          "data": {
            "text/plain": [
              "0.0144159915"
            ]
          },
          "metadata": {
            "tags": []
          },
          "execution_count": 103
        }
      ]
    },
    {
      "cell_type": "code",
      "metadata": {
        "id": "9_lWc4he1Cey",
        "colab_type": "code",
        "colab": {
          "base_uri": "https://localhost:8080/",
          "height": 592
        },
        "outputId": "1dbd782a-5ba7-418c-dacb-696a70ce374d"
      },
      "source": [
        "import numpy as np\n",
        "import matplotlib.pyplot as plt\n",
        "plt.figure(figsize=(8,10))\n",
        "plt.plot(range(60),series[0,:,0])\n",
        "plt.plot(range(60),X[0,:,0])\n",
        "plt.show()"
      ],
      "execution_count": 109,
      "outputs": [
        {
          "output_type": "display_data",
          "data": {
            "image/png": "[encoded data removed]",
            "text/plain": [
              "<Figure size 576x720 with 1 Axes>"
            ]
          },
          "metadata": {
            "tags": [],
            "needs_background": "light"
          }
        }
      ]
    },
    {
      "cell_type": "markdown",
      "metadata": {
        "id": "3S3m6x_R94R6",
        "colab_type": "text"
      },
      "source": [
        "Second option is to train on 10 outputs and predict next 10 output."
      ]
    },
    {
      "cell_type": "code",
      "metadata": {
        "id": "q0TjtROu9Qib",
        "colab_type": "code",
        "colab": {}
      },
      "source": [
        "series = generate_time_series(10000, n_steps+10)\n",
        "X_train, y_train = series[:7000,:n_steps], series[:7000,n_steps:]\n",
        "X_valid, y_valid = series[7000:9000,:n_steps], series[7000:9000,n_steps:]\n",
        "X_test, y_test = series[9000:, :n_steps], series[9000:, n_steps:] "
      ],
      "execution_count": 112,
      "outputs": []
    },
    {
      "cell_type": "code",
      "metadata": {
        "id": "QwDTAIHe-vPy",
        "colab_type": "code",
        "colab": {
          "base_uri": "https://localhost:8080/",
          "height": 86
        },
        "outputId": "dcd392b0-4e8f-4b43-f7dd-715656c28fbe"
      },
      "source": [
        "print(X_train.shape)\n",
        "print(y_train.shape)\n",
        "print(X_test.shape)\n",
        "print(y_test.shape)"
      ],
      "execution_count": 113,
      "outputs": [
        {
          "output_type": "stream",
          "text": [
            "(7000, 50, 1)\n",
            "(7000, 10, 1)\n",
            "(1000, 50, 1)\n",
            "(1000, 10, 1)\n"
          ],
          "name": "stdout"
        }
      ]
    },
    {
      "cell_type": "code",
      "metadata": {
        "id": "8vWP8uYk-2Lx",
        "colab_type": "code",
        "colab": {}
      },
      "source": [
        "keras.backend.clear_session()\n",
        "\n",
        "model = keras.Sequential([\n",
        "                          keras.layers.SimpleRNN(20, return_sequences=True, input_shape=[None,1]),\n",
        "                          keras.layers.SimpleRNN(10),\n",
        "                          keras.layers.Dense(10)\n",
        "])"
      ],
      "execution_count": 114,
      "outputs": []
    },
    {
      "cell_type": "code",
      "metadata": {
        "id": "1Mz-cE9h_fdo",
        "colab_type": "code",
        "colab": {
          "base_uri": "https://localhost:8080/",
          "height": 260
        },
        "outputId": "3b96a90e-c98b-4e2e-af46-293e4e962dca"
      },
      "source": [
        "model.summary()"
      ],
      "execution_count": 115,
      "outputs": [
        {
          "output_type": "stream",
          "text": [
            "Model: \"sequential\"\n",
            "_________________________________________________________________\n",
            "Layer (type)                 Output Shape              Param #   \n",
            "=================================================================\n",
            "simple_rnn (SimpleRNN)       (None, None, 20)          440       \n",
            "_________________________________________________________________\n",
            "simple_rnn_1 (SimpleRNN)     (None, 10)                310       \n",
            "_________________________________________________________________\n",
            "dense (Dense)                (None, 10)                110       \n",
            "=================================================================\n",
            "Total params: 860\n",
            "Trainable params: 860\n",
            "Non-trainable params: 0\n",
            "_________________________________________________________________\n"
          ],
          "name": "stdout"
        }
      ]
    },
    {
      "cell_type": "code",
      "metadata": {
        "id": "9xRrdjcx_hCk",
        "colab_type": "code",
        "colab": {
          "base_uri": "https://localhost:8080/",
          "height": 729
        },
        "outputId": "d795a4ec-179d-4019-e059-a682b3433f0c"
      },
      "source": [
        "model.compile(optimizer='Adam', loss = tf.keras.losses.mean_squared_error)\n",
        "model.fit(X_train, y_train, validation_data=(X_valid, y_valid), epochs=20)"
      ],
      "execution_count": 116,
      "outputs": [
        {
          "output_type": "stream",
          "text": [
            "Epoch 1/20\n",
            "219/219 [==============================] - 4s 18ms/step - loss: 0.0876 - val_loss: 0.0466\n",
            "Epoch 2/20\n",
            "219/219 [==============================] - 4s 17ms/step - loss: 0.0379 - val_loss: 0.0309\n",
            "Epoch 3/20\n",
            "219/219 [==============================] - 4s 17ms/step - loss: 0.0270 - val_loss: 0.0249\n",
            "Epoch 4/20\n",
            "219/219 [==============================] - 4s 17ms/step - loss: 0.0209 - val_loss: 0.0189\n",
            "Epoch 5/20\n",
            "219/219 [==============================] - 4s 17ms/step - loss: 0.0176 - val_loss: 0.0162\n",
            "Epoch 6/20\n",
            "219/219 [==============================] - 3s 16ms/step - loss: 0.0156 - val_loss: 0.0149\n",
            "Epoch 7/20\n",
            "219/219 [==============================] - 3s 16ms/step - loss: 0.0140 - val_loss: 0.0130\n",
            "Epoch 8/20\n",
            "219/219 [==============================] - 3s 16ms/step - loss: 0.0130 - val_loss: 0.0136\n",
            "Epoch 9/20\n",
            "219/219 [==============================] - 3s 16ms/step - loss: 0.0120 - val_loss: 0.0112\n",
            "Epoch 10/20\n",
            "219/219 [==============================] - 4s 17ms/step - loss: 0.0111 - val_loss: 0.0111\n",
            "Epoch 11/20\n",
            "219/219 [==============================] - 4s 16ms/step - loss: 0.0108 - val_loss: 0.0099\n",
            "Epoch 12/20\n",
            "219/219 [==============================] - 4s 16ms/step - loss: 0.0107 - val_loss: 0.0105\n",
            "Epoch 13/20\n",
            "219/219 [==============================] - 4s 17ms/step - loss: 0.0102 - val_loss: 0.0098\n",
            "Epoch 14/20\n",
            "219/219 [==============================] - 4s 17ms/step - loss: 0.0101 - val_loss: 0.0103\n",
            "Epoch 15/20\n",
            "219/219 [==============================] - 4s 17ms/step - loss: 0.0100 - val_loss: 0.0106\n",
            "Epoch 16/20\n",
            "219/219 [==============================] - 3s 16ms/step - loss: 0.0100 - val_loss: 0.0095\n",
            "Epoch 17/20\n",
            "219/219 [==============================] - 3s 16ms/step - loss: 0.0095 - val_loss: 0.0091\n",
            "Epoch 18/20\n",
            "219/219 [==============================] - 3s 16ms/step - loss: 0.0093 - val_loss: 0.0095\n",
            "Epoch 19/20\n",
            "219/219 [==============================] - 4s 17ms/step - loss: 0.0092 - val_loss: 0.0099\n",
            "Epoch 20/20\n",
            "219/219 [==============================] - 4s 16ms/step - loss: 0.0093 - val_loss: 0.0094\n"
          ],
          "name": "stdout"
        },
        {
          "output_type": "execute_result",
          "data": {
            "text/plain": [
              "<tensorflow.python.keras.callbacks.History at 0x7f83bde11dd8>"
            ]
          },
          "metadata": {
            "tags": []
          },
          "execution_count": 116
        }
      ]
    },
    {
      "cell_type": "code",
      "metadata": {
        "id": "Ar70fWs0_oHM",
        "colab_type": "code",
        "colab": {
          "base_uri": "https://localhost:8080/",
          "height": 34
        },
        "outputId": "e9204ae3-9bf6-43e0-96e6-5961c2faad23"
      },
      "source": [
        "y_pred = model.predict(X_test)\n",
        "np.mean(keras.losses.mean_squared_error(y_pred, y_test[:,:,0]))"
      ],
      "execution_count": 120,
      "outputs": [
        {
          "output_type": "execute_result",
          "data": {
            "text/plain": [
              "0.009434746"
            ]
          },
          "metadata": {
            "tags": []
          },
          "execution_count": 120
        }
      ]
    },
    {
      "cell_type": "code",
      "metadata": {
        "id": "Hq5e2AzMAD0C",
        "colab_type": "code",
        "colab": {
          "base_uri": "https://localhost:8080/",
          "height": 34
        },
        "outputId": "271ce30d-9524-46d8-9561-9ec8df7faf91"
      },
      "source": [
        "y_pred.shape"
      ],
      "execution_count": 119,
      "outputs": [
        {
          "output_type": "execute_result",
          "data": {
            "text/plain": [
              "(1000, 10)"
            ]
          },
          "metadata": {
            "tags": []
          },
          "execution_count": 119
        }
      ]
    },
    {
      "cell_type": "markdown",
      "metadata": {
        "id": "tgvmh4mxCR35",
        "colab_type": "text"
      },
      "source": [
        "This model works nicely: the MSE for the next 10 time steps is about 0.008. That’s\n",
        "much better than the linear model. But we can still do better: indeed, instead of train‐\n",
        "ing the model to forecast the next 10 values only at the very last time step, we can\n",
        "train it to forecast the next 10 values at each and every time step. In other words, we\n",
        "can turn this sequence-to-vector RNN into a sequence-to-sequence RNN. The advan‐\n",
        "tage of this technique is that the loss will contain a term for the output of the RNN at\n",
        "each and every time step, not just the output at the last time step. This means there\n",
        "will be many more error gradients flowing through the model, and they won’t have to\n",
        "flow only through time; they will also flow from the output of each time step. This\n",
        "will both stabilize and speed up training"
      ]
    },
    {
      "cell_type": "code",
      "metadata": {
        "id": "Xl0SmE_JAOBi",
        "colab_type": "code",
        "colab": {}
      },
      "source": [
        "#TODO\n",
        "# Sequence to Sequence Generation"
      ],
      "execution_count": null,
      "outputs": []
    }
  ]
}