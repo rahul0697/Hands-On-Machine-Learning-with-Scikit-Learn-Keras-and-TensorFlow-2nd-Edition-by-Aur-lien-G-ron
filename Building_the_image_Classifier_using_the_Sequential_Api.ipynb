{
  "nbformat": 4,
  "nbformat_minor": 0,
  "metadata": {
    "colab": {
      "name": "Building  the image Classifier using the Sequential Api.ipynb",
      "provenance": [],
      "collapsed_sections": [],
      "authorship_tag": "ABX9TyNjCcJxzE+HtZgvfPcN+eIf",
      "include_colab_link": true
    },
    "kernelspec": {
      "name": "python3",
      "display_name": "Python 3"
    }
  },
  "cells": [
    {
      "cell_type": "markdown",
      "metadata": {
        "id": "view-in-github",
        "colab_type": "text"
      },
      "source": [
        "<a href=\"https://colab.research.google.com/github/rahul0697/Hands-On-Machine-Learning-with-Scikit-Learn-Keras-and-TensorFlow-2nd-Edition-by-Aur-lien-G-ron/blob/master/Building_the_image_Classifier_using_the_Sequential_Api.ipynb\" target=\"_parent\"><img src=\"https://colab.research.google.com/assets/colab-badge.svg\" alt=\"Open In Colab\"/></a>"
      ]
    },
    {
      "cell_type": "code",
      "metadata": {
        "id": "f1LcoTKS3qIj",
        "colab_type": "code",
        "colab": {}
      },
      "source": [
        "import tensorflow as tf\n",
        "from tensorflow import keras\n",
        "print(tf.__version__)\n",
        "print(keras.__version__)"
      ],
      "execution_count": null,
      "outputs": []
    },
    {
      "cell_type": "markdown",
      "metadata": {
        "id": "bNom4gu96pmo",
        "colab_type": "text"
      },
      "source": [
        "**-tf ,Highlights the fact that tf.keras implements the Keras API, plus\n",
        "some extra TensorFlow-specific features.** "
      ]
    },
    {
      "cell_type": "code",
      "metadata": {
        "id": "DrIcVmqg6WIE",
        "colab_type": "code",
        "colab": {}
      },
      "source": [
        "#using Keras to Load fashion Mnist Dataset\n",
        "(X_train_full,y_train_full), (X_test_full, y_test_full) = keras.datasets.fashion_mnist.load_data()"
      ],
      "execution_count": null,
      "outputs": []
    },
    {
      "cell_type": "code",
      "metadata": {
        "id": "4VjmZLW-7-l7",
        "colab_type": "code",
        "colab": {}
      },
      "source": [
        "print(X_train_full.shape)\n",
        "print(X_test_full.shape)\n",
        "print(y_train_full.shape)\n",
        "print(y_test_full.shape)"
      ],
      "execution_count": null,
      "outputs": []
    },
    {
      "cell_type": "code",
      "metadata": {
        "id": "yJSgRMlk7qZ6",
        "colab_type": "code",
        "colab": {}
      },
      "source": [
        "#split train into train and validation \n",
        "#scale the pixel values from 0 to 1 by dividing 255\n",
        "SPLIT = 5000\n",
        "X_valid = X_train_full[:SPLIT]/255.0\n",
        "y_valid = y_train_full[:SPLIT]\n",
        "X_train = X_train_full[SPLIT:]/255.0\n",
        "y_train = y_train_full[SPLIT:]\n",
        "X_test_full = x_test_full/255.0"
      ],
      "execution_count": null,
      "outputs": []
    },
    {
      "cell_type": "code",
      "metadata": {
        "id": "b_5owZRS8hbU",
        "colab_type": "code",
        "colab": {}
      },
      "source": [
        "Class_names = [\"T-shirt/top\", \"Trouser\", \"Pullover\", \"Dress\", \"Coat\",\n",
        "\"Sandal\", \"Shirt\", \"Sneaker\", \"Bag\", \"Ankle boot\"]"
      ],
      "execution_count": null,
      "outputs": []
    },
    {
      "cell_type": "code",
      "metadata": {
        "id": "wPUNlfOU86K5",
        "colab_type": "code",
        "colab": {}
      },
      "source": [
        "Class_names[y_train[0]]"
      ],
      "execution_count": null,
      "outputs": []
    },
    {
      "cell_type": "code",
      "metadata": {
        "id": "tNxjve719CVM",
        "colab_type": "code",
        "colab": {}
      },
      "source": [
        "model = keras.Sequential()\n",
        "# model.add(keras.layers.InputLayer(input_shape=[28,28]))\n",
        "model.add(keras.layers.Flatten(input_shape=[28,28]))\n",
        "model.add(keras.layers.Dense(300, activation='relu'))\n",
        "model.add(keras.layers.Dense(100, activation = tf.keras.activations.relu))\n",
        "model.add(keras.layers.Dense(10, activation='softmax')) "
      ],
      "execution_count": null,
      "outputs": []
    },
    {
      "cell_type": "code",
      "metadata": {
        "id": "h3q43GV1-2GC",
        "colab_type": "code",
        "colab": {}
      },
      "source": [
        "model.summary()"
      ],
      "execution_count": null,
      "outputs": []
    },
    {
      "cell_type": "code",
      "metadata": {
        "id": "M_YNKW1l-eqF",
        "colab_type": "code",
        "colab": {}
      },
      "source": [
        "model1 = keras.Sequential([\n",
        "                    keras.layers.Flatten(input_shape=[28,28]),\n",
        "                    keras.layers.Dense(300, activation='relu'),\n",
        "                    keras.layers.Dense(100, activation = tf.keras.activations.relu),\n",
        "                    keras.layers.Dense(10, activation='softmax')\n",
        "])"
      ],
      "execution_count": null,
      "outputs": []
    },
    {
      "cell_type": "code",
      "metadata": {
        "id": "OdAVEKfQ-6dx",
        "colab_type": "code",
        "colab": {}
      },
      "source": [
        "model1.summary()"
      ],
      "execution_count": null,
      "outputs": []
    },
    {
      "cell_type": "markdown",
      "metadata": {
        "id": "GGjK2pJr_PpS",
        "colab_type": "text"
      },
      "source": [
        "**The first hidden\n",
        "layer has 784 × 300 connection weights, plus 300 bias terms, which adds up to\n",
        "235,500 parameters!**"
      ]
    },
    {
      "cell_type": "code",
      "metadata": {
        "id": "Fm-sdOh2_G_G",
        "colab_type": "code",
        "colab": {}
      },
      "source": [
        "model.layers"
      ],
      "execution_count": null,
      "outputs": []
    },
    {
      "cell_type": "code",
      "metadata": {
        "id": "mBlyunRe_YIe",
        "colab_type": "code",
        "colab": {}
      },
      "source": [
        "#Fetch layer using index\n",
        "hidden1 = model.layers[1]\n",
        "hidden1.name"
      ],
      "execution_count": null,
      "outputs": []
    },
    {
      "cell_type": "code",
      "metadata": {
        "id": "3AD6ybdP_j7c",
        "colab_type": "code",
        "colab": {}
      },
      "source": [
        "#Fetch using name\n",
        "model.get_layer('dense_6').name"
      ],
      "execution_count": null,
      "outputs": []
    },
    {
      "cell_type": "markdown",
      "metadata": {
        "id": "uUay343DAHXX",
        "colab_type": "text"
      },
      "source": [
        "**All the parameters of a layer can be accessed by get_weights()**"
      ]
    },
    {
      "cell_type": "code",
      "metadata": {
        "id": "I4ycaUiP_y__",
        "colab_type": "code",
        "colab": {}
      },
      "source": [
        "weights, biases = hidden1.get_weights()"
      ],
      "execution_count": null,
      "outputs": []
    },
    {
      "cell_type": "code",
      "metadata": {
        "id": "8CGEMTiyAc0h",
        "colab_type": "code",
        "colab": {}
      },
      "source": [
        "weights.shape"
      ],
      "execution_count": null,
      "outputs": []
    },
    {
      "cell_type": "code",
      "metadata": {
        "id": "zEyrHzf0AeyX",
        "colab_type": "code",
        "colab": {}
      },
      "source": [
        "biases.shape"
      ],
      "execution_count": null,
      "outputs": []
    },
    {
      "cell_type": "markdown",
      "metadata": {
        "id": "Vm01Lm85BDen",
        "colab_type": "text"
      },
      "source": [
        "**Compile the model**"
      ]
    },
    {
      "cell_type": "markdown",
      "metadata": {
        "id": "JWKzMJj_CUHa",
        "colab_type": "text"
      },
      "source": [
        "sparse_categorical_crossentropy is used when labels are sparse.\n",
        "categorical_crossentropy is used when labels are one hot vectors.\n",
        "\n",
        "If you want to convert sparse labels (i.e., class indices) to one-hot\n",
        "vector labels, use the keras.utils.to_categorical() function. To\n",
        "go the other way round, use the np.argmax() function with\n",
        "axis=1 "
      ]
    },
    {
      "cell_type": "code",
      "metadata": {
        "id": "L9GfEM-CAgjK",
        "colab_type": "code",
        "colab": {}
      },
      "source": [
        "# Using loss=\"sparse_categorical_crossentropy\" is equivalent to\n",
        "# using loss=keras.losses.sparse_categorical_crossentropy .\n",
        "# Similarly, specifying optimizer=\"sgd\" is equivalent to specifying\n",
        "# optimizer=keras.optimizers.SGD() , and metrics=[\"accuracy\"]\n",
        "# is equivalent to metrics=[keras.metrics.sparse_categori\n",
        "# cal_accuracy] (when using this loss)\n",
        "\n",
        "model.compile( optimizer='sgd', loss = 'sparse_categorical_crossentropy', metrics = ['accuracy'])\n",
        "\n",
        "# model.compile(optimizer = tf.keras.optimizers.SGD, loss = keras.losses.sparse_categorical_crossentropy, \n",
        "              # metrics = keras.metrics.sparse_categorical_accuracy)"
      ],
      "execution_count": null,
      "outputs": []
    },
    {
      "cell_type": "markdown",
      "metadata": {
        "id": "50JoQTISCxCz",
        "colab_type": "text"
      },
      "source": [
        "When using the SGD optimizer, it is important to tune the learning\n",
        "rate. So, you will generally want to use optimizer=keras.optimiz\n",
        "ers.SGD(lr=???) to set the learning rate, rather than opti\n",
        "mizer=\"sgd\" , which defaults to lr=0.01 ."
      ]
    },
    {
      "cell_type": "markdown",
      "metadata": {
        "id": "capIMoaPC4ht",
        "colab_type": "text"
      },
      "source": [
        "**Training and evaluating the model**"
      ]
    },
    {
      "cell_type": "code",
      "metadata": {
        "id": "nnf_PtqfB6H2",
        "colab_type": "code",
        "colab": {}
      },
      "source": [
        "history = model.fit(X_train, y_train, epochs=10, validation_data=(X_valid, y_valid))"
      ],
      "execution_count": null,
      "outputs": []
    },
    {
      "cell_type": "markdown",
      "metadata": {
        "id": "pQCdlmasD1s_",
        "colab_type": "text"
      },
      "source": [
        "Instead of passing **validation_data** to model.fit method, we can specify validation_split in fit method. like **validation_split=0.1** => use last 10% of traing set as validation set"
      ]
    },
    {
      "cell_type": "code",
      "metadata": {
        "id": "kdXdleeqDHIg",
        "colab_type": "code",
        "colab": {}
      },
      "source": [
        "history = model.fit(X_train, y_train,  validation_split=0.1, epochs=5)"
      ],
      "execution_count": null,
      "outputs": []
    },
    {
      "cell_type": "markdown",
      "metadata": {
        "id": "qn9vYa1XEjXJ",
        "colab_type": "text"
      },
      "source": [
        "1. If training set is very Skewed, that is one class is overrepresensted and other is underrepresented, then we can set **class_weight** parameter in **fit** method to give more weightage to underrepreseneted class"
      ]
    },
    {
      "cell_type": "code",
      "metadata": {
        "id": "kCQizoNIDzc-",
        "colab_type": "code",
        "colab": {}
      },
      "source": [
        "history.params"
      ],
      "execution_count": null,
      "outputs": []
    },
    {
      "cell_type": "code",
      "metadata": {
        "id": "HmQ9o5GFFHq3",
        "colab_type": "code",
        "colab": {}
      },
      "source": [
        "history.epoch"
      ],
      "execution_count": null,
      "outputs": []
    },
    {
      "cell_type": "code",
      "metadata": {
        "id": "gbmR3jlOFKCc",
        "colab_type": "code",
        "colab": {}
      },
      "source": [
        "#dictionary\n",
        "history.history"
      ],
      "execution_count": null,
      "outputs": []
    },
    {
      "cell_type": "code",
      "metadata": {
        "id": "vUyTDKs3FMg9",
        "colab_type": "code",
        "colab": {}
      },
      "source": [
        "import pandas as pd\n",
        "import matplotlib.pyplot as plt\n"
      ],
      "execution_count": null,
      "outputs": []
    },
    {
      "cell_type": "code",
      "metadata": {
        "id": "F3cCI4ekFloX",
        "colab_type": "code",
        "colab": {}
      },
      "source": [
        "pd.DataFrame(history.history)"
      ],
      "execution_count": null,
      "outputs": []
    },
    {
      "cell_type": "code",
      "metadata": {
        "id": "_jR1cYEUFq2O",
        "colab_type": "code",
        "colab": {}
      },
      "source": [
        "pd.DataFrame(history.history).plot(figsize=(8,5))\n",
        "plt.grid(True)\n",
        "plt.gca().set_ylim(0, 1) # set the vertical range to [0-1]\n",
        "plt.show()"
      ],
      "execution_count": null,
      "outputs": []
    },
    {
      "cell_type": "markdown",
      "metadata": {
        "id": "HqSKYXX1G7Rk",
        "colab_type": "text"
      },
      "source": [
        "**Evaluate Model**"
      ]
    },
    {
      "cell_type": "code",
      "metadata": {
        "id": "RwgopelLGHOE",
        "colab_type": "code",
        "colab": {}
      },
      "source": [
        "model.evaluate(X_test_full, y_test_full)"
      ],
      "execution_count": null,
      "outputs": []
    },
    {
      "cell_type": "code",
      "metadata": {
        "id": "9prNMqK_HCS6",
        "colab_type": "code",
        "colab": {}
      },
      "source": [
        "X_new = X_test_full[:3]\n",
        "y_new = y_test_full[:3]"
      ],
      "execution_count": null,
      "outputs": []
    },
    {
      "cell_type": "code",
      "metadata": {
        "id": "43ozFneaHn1e",
        "colab_type": "code",
        "colab": {}
      },
      "source": [
        "y_prob = model.predict(X_new)"
      ],
      "execution_count": null,
      "outputs": []
    },
    {
      "cell_type": "code",
      "metadata": {
        "id": "BObb09-WHrnx",
        "colab_type": "code",
        "colab": {}
      },
      "source": [
        "y_prob.round(2)"
      ],
      "execution_count": null,
      "outputs": []
    },
    {
      "cell_type": "code",
      "metadata": {
        "id": "jKtH0TJ8ICH9",
        "colab_type": "code",
        "colab": {}
      },
      "source": [
        "y_pred = model.predict_classes(X_new)\n",
        "y_pred"
      ],
      "execution_count": null,
      "outputs": []
    },
    {
      "cell_type": "code",
      "metadata": {
        "id": "41f9_mA7IJF_",
        "colab_type": "code",
        "colab": {}
      },
      "source": [
        "import numpy as np\n",
        "np.array(Class_names)[y_pred]"
      ],
      "execution_count": null,
      "outputs": []
    },
    {
      "cell_type": "code",
      "metadata": {
        "id": "bavQAufkIX9E",
        "colab_type": "code",
        "colab": {}
      },
      "source": [
        "y_new[:3]"
      ],
      "execution_count": null,
      "outputs": []
    },
    {
      "cell_type": "code",
      "metadata": {
        "id": "Povfa7K-IwUb",
        "colab_type": "code",
        "colab": {}
      },
      "source": [
        ""
      ],
      "execution_count": null,
      "outputs": []
    }
  ]
}