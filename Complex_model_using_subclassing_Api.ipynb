{
  "nbformat": 4,
  "nbformat_minor": 0,
  "metadata": {
    "colab": {
      "name": "Complex model using subclassing Api.ipynb",
      "provenance": []
    },
    "kernelspec": {
      "name": "python3",
      "display_name": "Python 3"
    }
  },
  "cells": [
    {
      "cell_type": "code",
      "metadata": {
        "id": "yo03NxOnKK8U",
        "colab_type": "code",
        "colab": {}
      },
      "source": [
        "import tensorflow as tf\n",
        "from tensorflow import keras"
      ],
      "execution_count": 13,
      "outputs": []
    },
    {
      "cell_type": "markdown",
      "metadata": {
        "id": "deP4Ku6he6xB",
        "colab_type": "text"
      },
      "source": [
        "Sequential Api and Functional Api has may advantages:\n",
        "\n",
        "\n",
        "1.   Model is easy to interpret, debug,save, and share\n",
        "2.   Model's structute can visualized and displayed. Its easy to check errors before passing any data into the model\n",
        "\n",
        "Disavdvantages:\n",
        "\n",
        "\n",
        "1.   Model is static.Its difficult to implement dynamic behaviour of model\n",
        "\n",
        "\n",
        "\n",
        "\n",
        "\n",
        "\n",
        "\n",
        "\n",
        "\n",
        "\n"
      ]
    },
    {
      "cell_type": "markdown",
      "metadata": {
        "id": "W9WNjnmc5KdQ",
        "colab_type": "text"
      },
      "source": [
        "![alt text](https://drive.google.com/uc?export=view&id=11htrbzoRQlkF4W9sYCPxhgnpuJ3iopuS)"
      ]
    },
    {
      "cell_type": "code",
      "metadata": {
        "id": "n6egl8dZd3SX",
        "colab_type": "code",
        "colab": {}
      },
      "source": [
        "class WideAndDeepModel(tf.keras.Model):\n",
        "  def __init__(self, units=30, activation='relu', **kwargs):\n",
        "    super(WideAndDeepModel, self).__init__(**kwargs) # handle standard args like 'name'\n",
        "    #skip input layers\n",
        "    self.hidden1 = keras.layers.Dense(units=units, activation=activation)\n",
        "    self.hidden2 = keras.layers.Dense(units=units, activation=activation)\n",
        "    self.main_output = keras.layers.Dense(units=1) # regression\n",
        "    self.aux_output = keras.layers.Dense(units=1) # regression\n",
        "\n",
        "  def call(self, inputs):\n",
        "    input_a, input_b = inputs\n",
        "    hidden1 = self.hidden1(input_a)\n",
        "    hidden2 = self.hidden2(hidden1)\n",
        "    concat = keras.layers.Concatenate()([input_a, hidden2])\n",
        "    main_output = self.main_output(concat)\n",
        "    aux_output = self.aux_output(hidden2)\n",
        "    return main_output, aux_output"
      ],
      "execution_count": 21,
      "outputs": []
    },
    {
      "cell_type": "code",
      "metadata": {
        "id": "f26ZfYDS75lU",
        "colab_type": "code",
        "colab": {}
      },
      "source": [
        "model = WideAndDeepModel(4,) "
      ],
      "execution_count": 27,
      "outputs": []
    },
    {
      "cell_type": "markdown",
      "metadata": {
        "id": "jqIgsgsv-n3S",
        "colab_type": "text"
      },
      "source": [
        "**Keras models have an output attribute, so we cannot use that name for the main output layer, which is why\n",
        "we renamed it to main_output .**"
      ]
    },
    {
      "cell_type": "code",
      "metadata": {
        "id": "PGJju4ft9_08",
        "colab_type": "code",
        "colab": {}
      },
      "source": [
        ""
      ],
      "execution_count": null,
      "outputs": []
    }
  ]
}